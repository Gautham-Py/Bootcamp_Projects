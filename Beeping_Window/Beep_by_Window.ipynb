{
 "cells": [
  {
   "cell_type": "markdown",
   "id": "a19e0a74",
   "metadata": {},
   "source": [
    "### To Make a Beep Sound"
   ]
  },
  {
   "cell_type": "code",
   "execution_count": 1,
   "id": "c7d8d6e5",
   "metadata": {},
   "outputs": [],
   "source": [
    "import winsound"
   ]
  },
  {
   "cell_type": "code",
   "execution_count": 8,
   "id": "b06032a8",
   "metadata": {},
   "outputs": [],
   "source": [
    "frequency = 2500  # Set Frequency To 2500 Hertz\n",
    "duration = 1500  # Set Duration To 1000 ms == 1 second"
   ]
  },
  {
   "cell_type": "markdown",
   "id": "02e7fff3",
   "metadata": {},
   "source": [
    "\n",
    "The winsound.Beep() can be used wherever you want the beep to occur."
   ]
  },
  {
   "cell_type": "code",
   "execution_count": 9,
   "id": "112283d9",
   "metadata": {},
   "outputs": [],
   "source": [
    "winsound.Beep(frequency, duration)"
   ]
  }
 ],
 "metadata": {
  "kernelspec": {
   "display_name": "Python 3 (ipykernel)",
   "language": "python",
   "name": "python3"
  },
  "language_info": {
   "codemirror_mode": {
    "name": "ipython",
    "version": 3
   },
   "file_extension": ".py",
   "mimetype": "text/x-python",
   "name": "python",
   "nbconvert_exporter": "python",
   "pygments_lexer": "ipython3",
   "version": "3.11.2"
  }
 },
 "nbformat": 4,
 "nbformat_minor": 5
}
