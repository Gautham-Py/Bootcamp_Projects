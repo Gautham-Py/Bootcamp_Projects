{
 "cells": [
  {
   "cell_type": "markdown",
   "id": "fd350cd1",
   "metadata": {},
   "source": [
    "# Break_Notifier"
   ]
  },
  {
   "cell_type": "markdown",
   "id": "94aba0ed",
   "metadata": {},
   "source": [
    "#### Package install"
   ]
  },
  {
   "cell_type": "code",
   "execution_count": 1,
   "id": "1421b2b2",
   "metadata": {},
   "outputs": [],
   "source": [
    "# pip install plyer"
   ]
  },
  {
   "cell_type": "code",
   "execution_count": 2,
   "id": "9494dceb",
   "metadata": {},
   "outputs": [],
   "source": [
    "# importing assets\n",
    "from plyer import notification\n",
    "\n",
    "import time"
   ]
  },
  {
   "cell_type": "code",
   "execution_count": null,
   "id": "bc40a1f8",
   "metadata": {},
   "outputs": [],
   "source": [
    "# Notification Creation using While loop\n",
    "\n",
    "while(True):\n",
    "    notification.notify(                                                          # notification(N) initiated\n",
    "        title   = \"Hello There! It's Time for your Break!\",                       # title of the N\n",
    "        message = \"Shake a Leg or Have a Glass of Water\\nLook Out of the Window\", # yours truly\n",
    "        timeout = 15                                                              # display time in seconds\n",
    "    )\n",
    "    time.sleep(3600)                                                              # time interval betweeen N's in seconds    "
   ]
  },
  {
   "cell_type": "code",
   "execution_count": null,
   "id": "e4d8b9e1",
   "metadata": {},
   "outputs": [],
   "source": []
  }
 ],
 "metadata": {
  "kernelspec": {
   "display_name": "Python 3",
   "language": "python",
   "name": "python3"
  },
  "language_info": {
   "codemirror_mode": {
    "name": "ipython",
    "version": 3
   },
   "file_extension": ".py",
   "mimetype": "text/x-python",
   "name": "python",
   "nbconvert_exporter": "python",
   "pygments_lexer": "ipython3",
   "version": "3.8.8"
  }
 },
 "nbformat": 4,
 "nbformat_minor": 5
}
