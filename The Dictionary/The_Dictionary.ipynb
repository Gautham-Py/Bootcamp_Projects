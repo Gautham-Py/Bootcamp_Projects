{
 "cells": [
  {
   "cell_type": "code",
   "execution_count": 1,
   "id": "9fbffd3e",
   "metadata": {},
   "outputs": [],
   "source": [
    "import os\n",
    "import json"
   ]
  },
  {
   "cell_type": "code",
   "execution_count": 2,
   "id": "7362f89f",
   "metadata": {},
   "outputs": [],
   "source": [
    "# help(json.load)"
   ]
  },
  {
   "cell_type": "code",
   "execution_count": 3,
   "id": "dd3c1a89",
   "metadata": {},
   "outputs": [],
   "source": [
    "# os.getcwd()"
   ]
  },
  {
   "cell_type": "code",
   "execution_count": 4,
   "id": "5ba91fd4",
   "metadata": {},
   "outputs": [],
   "source": [
    "os.chdir(\"E:\\\\DATA SCIENCE\\\\Bootcamp_Projects\\\\The Dictionary\")"
   ]
  },
  {
   "cell_type": "code",
   "execution_count": 5,
   "id": "34f18891",
   "metadata": {},
   "outputs": [],
   "source": [
    "# os.getcwd()"
   ]
  },
  {
   "cell_type": "markdown",
   "id": "b447511b",
   "metadata": {},
   "source": [
    "##### Loading the data(dictionary)"
   ]
  },
  {
   "cell_type": "code",
   "execution_count": 6,
   "id": "1ce9f68a",
   "metadata": {},
   "outputs": [],
   "source": [
    "df = json.load(open(\"data.json\"))"
   ]
  },
  {
   "cell_type": "code",
   "execution_count": 7,
   "id": "4a137237",
   "metadata": {},
   "outputs": [
    {
     "data": {
      "text/plain": [
       "dict"
      ]
     },
     "execution_count": 7,
     "metadata": {},
     "output_type": "execute_result"
    }
   ],
   "source": [
    "type(df)"
   ]
  },
  {
   "cell_type": "markdown",
   "id": "4b274858",
   "metadata": {},
   "source": [
    "#### The dataset contains  a package of words and their meaning in dictionary data structure"
   ]
  },
  {
   "cell_type": "code",
   "execution_count": 8,
   "id": "f0616446",
   "metadata": {},
   "outputs": [],
   "source": [
    "# df"
   ]
  },
  {
   "cell_type": "markdown",
   "id": "87578406",
   "metadata": {},
   "source": [
    "#### Example words in the dataset"
   ]
  },
  {
   "cell_type": "code",
   "execution_count": 9,
   "id": "ca5bda8e",
   "metadata": {},
   "outputs": [
    {
     "data": {
      "text/plain": [
       "['The idea that the like results of the good and evil a person does will return either in this life or in a later one.']"
      ]
     },
     "execution_count": 9,
     "metadata": {},
     "output_type": "execute_result"
    }
   ],
   "source": [
    "df[\"karma\"]"
   ]
  },
  {
   "cell_type": "code",
   "execution_count": 10,
   "id": "a52f39f7",
   "metadata": {},
   "outputs": [
    {
     "data": {
      "text/plain": [
       "['Having a feeling of satisfaction, enjoyment or well-being, often arising from a positive situation or set of circumstances.',\n",
       " 'In a state of satisfaction.']"
      ]
     },
     "execution_count": 10,
     "metadata": {},
     "output_type": "execute_result"
    }
   ],
   "source": [
    "df[\"happy\"]"
   ]
  },
  {
   "cell_type": "code",
   "execution_count": 11,
   "id": "5fbe0613",
   "metadata": {},
   "outputs": [
    {
     "data": {
      "text/plain": [
       "['Belonging to, or performed by, the intellect.']"
      ]
     },
     "execution_count": 11,
     "metadata": {},
     "output_type": "execute_result"
    }
   ],
   "source": [
    "df[\"intellectual\"]"
   ]
  },
  {
   "cell_type": "markdown",
   "id": "a281a640",
   "metadata": {},
   "source": [
    "#### A Simple Extraction"
   ]
  },
  {
   "cell_type": "code",
   "execution_count": 12,
   "id": "ce782a64",
   "metadata": {},
   "outputs": [
    {
     "name": "stdout",
     "output_type": "stream",
     "text": [
      "Enter the Word:  pastel\n",
      "['An art medium in the form of a stick, consisting of pure powdered pigment and a binder.']\n"
     ]
    }
   ],
   "source": [
    "def translate(word):    \n",
    "    return df[word]\n",
    "\n",
    "word = input(\"Enter the Word:  \")\n",
    "print(translate(word))"
   ]
  },
  {
   "cell_type": "markdown",
   "id": "1f4aed07",
   "metadata": {},
   "source": [
    "#### Check for errors in entry : SpellCheck + Case_check(lower/ upper)"
   ]
  },
  {
   "cell_type": "code",
   "execution_count": 13,
   "id": "f14ee3bc",
   "metadata": {},
   "outputs": [
    {
     "name": "stdout",
     "output_type": "stream",
     "text": [
      "Enter the Word:  ALgo\n",
      "The word doesn't seem to have a match in our Dictionary, Please try again!\n"
     ]
    }
   ],
   "source": [
    "def translate(word):  \n",
    "    word = word.lower()\n",
    "    if word in df:\n",
    "        return df[word]\n",
    "    else  :\n",
    "        return(\"The word doesn't seem to have a match in our Dictionary, Please try again!\")\n",
    "\n",
    "word = input(\"Enter the Word:  \")\n",
    "print(translate(word))"
   ]
  },
  {
   "cell_type": "markdown",
   "id": "500f57a2",
   "metadata": {},
   "source": [
    "#### The Concept of Similarity Ratio between words"
   ]
  },
  {
   "cell_type": "code",
   "execution_count": 14,
   "id": "30d6b365",
   "metadata": {},
   "outputs": [],
   "source": [
    "import difflib\n",
    "from difflib import SequenceMatcher"
   ]
  },
  {
   "cell_type": "markdown",
   "id": "85156c31",
   "metadata": {},
   "source": [
    "##### Tells the percentage of match among the input words"
   ]
  },
  {
   "cell_type": "code",
   "execution_count": 15,
   "id": "6767a952",
   "metadata": {},
   "outputs": [
    {
     "data": {
      "text/plain": [
       "0.7692307692307693"
      ]
     },
     "execution_count": 15,
     "metadata": {},
     "output_type": "execute_result"
    }
   ],
   "source": [
    "SequenceMatcher(None, \"Pastery\",\"Pastel\").ratio()"
   ]
  },
  {
   "cell_type": "code",
   "execution_count": 16,
   "id": "c8d3f5ac",
   "metadata": {},
   "outputs": [
    {
     "data": {
      "text/plain": [
       "0.75"
      ]
     },
     "execution_count": 16,
     "metadata": {},
     "output_type": "execute_result"
    }
   ],
   "source": [
    "SequenceMatcher(None, \"Soul\",\"Sole\",\"Sour\").ratio()"
   ]
  },
  {
   "cell_type": "code",
   "execution_count": 17,
   "id": "c0f1fa25",
   "metadata": {},
   "outputs": [],
   "source": [
    "from difflib import get_close_matches"
   ]
  },
  {
   "cell_type": "code",
   "execution_count": 18,
   "id": "702d0957",
   "metadata": {},
   "outputs": [
    {
     "data": {
      "text/plain": [
       "['trouble', 'rubble']"
      ]
     },
     "execution_count": 18,
     "metadata": {},
     "output_type": "execute_result"
    }
   ],
   "source": [
    "# help(get_close_matches)\n",
    "\n",
    "get_close_matches(\"rouble\", [\"trouble\", \"rubble\", \"rugby\",\"pebble\"])"
   ]
  },
  {
   "cell_type": "code",
   "execution_count": 19,
   "id": "b1090f3e",
   "metadata": {},
   "outputs": [],
   "source": [
    "# df.keys()"
   ]
  },
  {
   "cell_type": "code",
   "execution_count": 20,
   "id": "25747f03",
   "metadata": {},
   "outputs": [
    {
     "data": {
      "text/plain": [
       "dict_keys"
      ]
     },
     "execution_count": 20,
     "metadata": {},
     "output_type": "execute_result"
    }
   ],
   "source": [
    "type(df.keys())"
   ]
  },
  {
   "cell_type": "code",
   "execution_count": 21,
   "id": "36265fc9",
   "metadata": {},
   "outputs": [
    {
     "data": {
      "text/plain": [
       "['public', 'publish', 'pubis', 'Dubli', 'republic', 'pub']"
      ]
     },
     "execution_count": 21,
     "metadata": {},
     "output_type": "execute_result"
    }
   ],
   "source": [
    "get_close_matches(\"publi\", df.keys(), n = 6)"
   ]
  },
  {
   "cell_type": "code",
   "execution_count": 22,
   "id": "96dcbc92",
   "metadata": {},
   "outputs": [
    {
     "data": {
      "text/plain": [
       "'public'"
      ]
     },
     "execution_count": 22,
     "metadata": {},
     "output_type": "execute_result"
    }
   ],
   "source": [
    "get_close_matches(\"publi\", df.keys())[0]"
   ]
  },
  {
   "cell_type": "markdown",
   "id": "593f4028",
   "metadata": {},
   "source": [
    "##### Model upgrade:"
   ]
  },
  {
   "cell_type": "code",
   "execution_count": 23,
   "id": "471c88f4",
   "metadata": {},
   "outputs": [
    {
     "name": "stdout",
     "output_type": "stream",
     "text": [
      "Enter the Word:  humma\n",
      "Did you mean human ?\n"
     ]
    }
   ],
   "source": [
    "def translate(word):  \n",
    "    word = word.lower()\n",
    "    if word in df:\n",
    "        return df[word]\n",
    "    elif len(get_close_matches(word, df.keys())) > 0 :\n",
    "        return \"Did you mean %s ?\" % get_close_matches(word, df.keys())[0]\n",
    "    else  :\n",
    "        return(\"The word doesn't seem to have a match in our Dictionary, Please try again!\")\n",
    "\n",
    "word = input(\"Enter the Word:  \")\n",
    "print(translate(word))"
   ]
  },
  {
   "cell_type": "markdown",
   "id": "9361ef4c",
   "metadata": {},
   "source": [
    "#### Confirmation from the User"
   ]
  },
  {
   "cell_type": "code",
   "execution_count": 24,
   "id": "3e569210",
   "metadata": {},
   "outputs": [
    {
     "name": "stdout",
     "output_type": "stream",
     "text": [
      "Enter the Word:  humm\n",
      "Did you mean hummus ? Enter 'Y' if Yes or 'N' if No: n\n",
      "Did you mean hump ? Enter 'Y' if Yes or 'N' if No: n\n",
      "The word doesn't seem to have a match in our Dictionary, Please try again!\n"
     ]
    }
   ],
   "source": [
    "def translate(word):  \n",
    "    word = word.lower()\n",
    "    if word in df:\n",
    "        return df[word]\n",
    "    elif len(get_close_matches(word, df.keys())) > 0 :\n",
    "        yes_no = input(\"Did you mean %s ? Enter 'Y' if Yes or 'N' if No: \" % get_close_matches(word, df.keys())[0])\n",
    "        yes_no = yes_no.lower() \n",
    "        if yes_no == \"y\":\n",
    "            return df[get_close_matches(word,df.keys())[0]]\n",
    "        elif yes_no == \"n\":\n",
    "            yes_no = input(\"Did you mean %s ? Enter 'Y' if Yes or 'N' if No: \" % get_close_matches(word, df.keys())[1])\n",
    "            yes_no = yes_no.lower()\n",
    "            if yes_no == \"y\":\n",
    "                return df[get_close_matches(word,df.keys())[1]]\n",
    "            elif yes_no == \"n\":\n",
    "                return(\"The word doesn't seem to have a match in our Dictionary, Please try again!\")\n",
    "            else:\n",
    "                return(\"Sorry! We did not catch that.\")\n",
    "            \n",
    "    else  :\n",
    "        return(\"The word doesn't seem to have a match in our Dictionary, Please try again!\")\n",
    "\n",
    "word = input(\"Enter the Word:  \")\n",
    "print(translate(word))"
   ]
  },
  {
   "cell_type": "markdown",
   "id": "b0010edd",
   "metadata": {},
   "source": [
    "### Optimization : User-friendly Output"
   ]
  },
  {
   "cell_type": "code",
   "execution_count": 25,
   "id": "50cd350e",
   "metadata": {},
   "outputs": [
    {
     "name": "stdout",
     "output_type": "stream",
     "text": [
      "Enter the Word:  sett\n",
      "Did you mean set ? Enter 'Y' if Yes or 'N' if No: y\n",
      "\n",
      "1 : A matching collection of things of the same kind.\n",
      "\n",
      "2 : A collection of various objects for a particular purpose.\n",
      "\n",
      "3 : An object made up several parts.\n",
      "\n",
      "4 : (set theory) A well-defined collection of mathematical objects (called elements or members) often having a common property.\n",
      "\n",
      "5 : An association or group of people, usually meeting socially.\n",
      "\n",
      "6 : To cause (as an end result, not a process) an object to be in a new place.\n",
      "\n",
      "7 : To adapt something; to alter or regulate so as to achieve accuracy or conform to a standard.\n",
      "\n",
      "8 : [Of a heavenly body, essentially the Sun and the Moon] To disappear below the horizon of a planet or another heavenly body (most often the Earth).\n",
      "\n",
      "9 : Fixed and unmoving.\n"
     ]
    }
   ],
   "source": [
    "# import json\n",
    "# import difflib\n",
    "# from difflib import SequenceMatcher\n",
    "# from difflib import get_close_matches\n",
    "\n",
    "# df = json.load(open(\"data.json\"))\n",
    "\n",
    "def translate(word):  \n",
    "    word = word.lower()\n",
    "    if word in df:\n",
    "        return df[word]\n",
    "    elif len(get_close_matches(word, df.keys())) > 0 :\n",
    "        yes_no = input(\"Did you mean %s ? Enter 'Y' if Yes or 'N' if No: \" % get_close_matches(word, df.keys())[0])\n",
    "        yes_no = yes_no.lower() \n",
    "        if yes_no == \"y\":\n",
    "            return df[get_close_matches(word,df.keys())[0]]\n",
    "        elif yes_no == \"n\":\n",
    "            yes_no = input(\"Did you mean %s ? Enter 'Y' if Yes or 'N' if No: \" % get_close_matches(word, df.keys())[1])\n",
    "            yes_no = yes_no.lower()\n",
    "            if yes_no == \"y\":\n",
    "                return df[get_close_matches(word,df.keys())[1]]\n",
    "            elif yes_no == \"n\":\n",
    "                return(\"The word doesn't seem to have a match in our Dictionary, Please try again!\")\n",
    "            else:\n",
    "                return(\"Sorry! We did not catch that.\")\n",
    "            \n",
    "    else  :\n",
    "        return(\"The word doesn't seem to have a match in our Dictionary, Please try again!\")\n",
    "\n",
    "word = input(\"Enter the Word:  \")\n",
    "\n",
    "answer = translate(word)\n",
    "if type(answer) == list:\n",
    "    c = 0\n",
    "    for i in answer:\n",
    "        print()\n",
    "        c = c + 1\n",
    "        print(c,\":\",i)\n",
    "else:\n",
    "    print(answer)"
   ]
  }
 ],
 "metadata": {
  "kernelspec": {
   "display_name": "Python 3",
   "language": "python",
   "name": "python3"
  },
  "language_info": {
   "codemirror_mode": {
    "name": "ipython",
    "version": 3
   },
   "file_extension": ".py",
   "mimetype": "text/x-python",
   "name": "python",
   "nbconvert_exporter": "python",
   "pygments_lexer": "ipython3",
   "version": "3.8.8"
  }
 },
 "nbformat": 4,
 "nbformat_minor": 5
}
