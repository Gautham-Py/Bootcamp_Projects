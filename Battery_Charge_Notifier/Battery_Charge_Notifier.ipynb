{
 "cells": [
  {
   "cell_type": "code",
   "execution_count": 1,
   "id": "29919a1d",
   "metadata": {},
   "outputs": [],
   "source": [
    "import psutil\n",
    "from plyer import notification\n",
    "import time"
   ]
  },
  {
   "cell_type": "code",
   "execution_count": 2,
   "id": "c4afca90",
   "metadata": {},
   "outputs": [
    {
     "name": "stdout",
     "output_type": "stream",
     "text": [
      "\n"
     ]
    }
   ],
   "source": [
    "# import battery sensors with psutil\n",
    "\n",
    "while(True):\n",
    "    battery = psutil.sensors_battery()\n",
    "    percent = battery.percent\n",
    "    \n",
    "    notification.notify( title   = \"Battery Percentage\",\n",
    "                         message = str(percent)+ \"% Battery Remaining!\",\n",
    "                         timeout = 10)\n",
    "    \n",
    "    # notify after every hour\n",
    "    time.sleep(60*60)\n",
    "    \n",
    "    continue"
   ]
  }
 ],
 "metadata": {
  "kernelspec": {
   "display_name": "Python 3",
   "language": "python",
   "name": "python3"
  },
  "language_info": {
   "codemirror_mode": {
    "name": "ipython",
    "version": 3
   },
   "file_extension": ".py",
   "mimetype": "text/x-python",
   "name": "python",
   "nbconvert_exporter": "python",
   "pygments_lexer": "ipython3",
   "version": "3.8.8"
  }
 },
 "nbformat": 4,
 "nbformat_minor": 5
}
