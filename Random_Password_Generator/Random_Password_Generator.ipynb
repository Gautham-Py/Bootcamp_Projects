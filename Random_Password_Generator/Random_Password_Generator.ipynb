{
 "cells": [
  {
   "cell_type": "code",
   "execution_count": 1,
   "id": "6b750881",
   "metadata": {},
   "outputs": [],
   "source": [
    "import random"
   ]
  },
  {
   "cell_type": "markdown",
   "id": "bd702d80",
   "metadata": {},
   "source": [
    "### All the incredients needed to generate a password"
   ]
  },
  {
   "cell_type": "code",
   "execution_count": 2,
   "id": "9e4ce2d4",
   "metadata": {},
   "outputs": [],
   "source": [
    "Upper   = \"ABCDEFGHIJKLMNOPQRSTUVWXYZ\"\n",
    "\n",
    "Lower   = \"abcdefghijklmnopqrstuvwxyz\"\n",
    "\n",
    "Numbers = \"0123456789\"\n",
    "\n",
    "Char    = \"!@#$%^&*(){[';-_/?.><\\']}\""
   ]
  },
  {
   "cell_type": "markdown",
   "id": "d3522503",
   "metadata": {},
   "source": [
    "### Cooking the incredients"
   ]
  },
  {
   "cell_type": "code",
   "execution_count": 4,
   "id": "da868cd7",
   "metadata": {},
   "outputs": [],
   "source": [
    "all     =  Upper + Lower + Numbers + Char\n",
    "\n",
    "length  = 16"
   ]
  },
  {
   "cell_type": "markdown",
   "id": "a5ad1987",
   "metadata": {},
   "source": [
    "### Your Dish is ready:  \"Say PassWord!!!\""
   ]
  },
  {
   "cell_type": "code",
   "execution_count": 18,
   "id": "f5aac8b6",
   "metadata": {},
   "outputs": [
    {
     "data": {
      "text/plain": [
       "'i8V>mp5wv$?7ftIW'"
      ]
     },
     "execution_count": 18,
     "metadata": {},
     "output_type": "execute_result"
    }
   ],
   "source": [
    "password = \"\".join(random.sample(all,length)) ; password"
   ]
  },
  {
   "cell_type": "markdown",
   "id": "9fe9ca3a",
   "metadata": {},
   "source": [
    "### Tip : Run \"password\" everytime to generate a new sample."
   ]
  },
  {
   "cell_type": "code",
   "execution_count": 19,
   "id": "9f8ab176",
   "metadata": {},
   "outputs": [
    {
     "data": {
      "text/plain": [
       "'3C97%2ZEp10Ajm}D'"
      ]
     },
     "execution_count": 19,
     "metadata": {},
     "output_type": "execute_result"
    }
   ],
   "source": [
    "password = \"\".join(random.sample(all,length)) ; password"
   ]
  },
  {
   "cell_type": "markdown",
   "id": "36efa28b",
   "metadata": {},
   "source": [
    "# Or...."
   ]
  },
  {
   "cell_type": "code",
   "execution_count": 20,
   "id": "2de1e511",
   "metadata": {},
   "outputs": [
    {
     "name": "stdout",
     "output_type": "stream",
     "text": [
      "{=)=>$sRi])\\2=[N\n"
     ]
    }
   ],
   "source": [
    "import string\n",
    "from random import *\n",
    "\n",
    "# New Recipe....\n",
    "secret = string.ascii_letters + string.punctuation + string.digits\n",
    "\n",
    "# So....\n",
    "password_1 = \"\".join(choice(secret)for x in range(randint(8, 16)))\n",
    "\n",
    "#Now....\n",
    "print(password_1)"
   ]
  }
 ],
 "metadata": {
  "kernelspec": {
   "display_name": "Python 3",
   "language": "python",
   "name": "python3"
  },
  "language_info": {
   "codemirror_mode": {
    "name": "ipython",
    "version": 3
   },
   "file_extension": ".py",
   "mimetype": "text/x-python",
   "name": "python",
   "nbconvert_exporter": "python",
   "pygments_lexer": "ipython3",
   "version": "3.8.8"
  }
 },
 "nbformat": 4,
 "nbformat_minor": 5
}
