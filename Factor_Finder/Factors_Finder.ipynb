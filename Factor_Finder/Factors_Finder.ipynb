{
 "cells": [
  {
   "cell_type": "markdown",
   "id": "93464b52",
   "metadata": {},
   "source": [
    "# Factor Finder\n",
    "\n",
    "#### Finds all the factors of a number"
   ]
  },
  {
   "cell_type": "markdown",
   "id": "e2583063",
   "metadata": {},
   "source": [
    "A number's factors are two numbers that, when multiplied with each other, produce the number.\n",
    "\n",
    "* If the number only has two factors - Prime Factors.\n",
    "\n",
    "* Otherwise, it's called a Composite Number"
   ]
  },
  {
   "cell_type": "code",
   "execution_count": 1,
   "id": "a6e7b7d4",
   "metadata": {},
   "outputs": [],
   "source": [
    "import math\n",
    "import sys"
   ]
  },
  {
   "cell_type": "markdown",
   "id": "01237232",
   "metadata": {},
   "source": [
    "### Main Loop"
   ]
  },
  {
   "cell_type": "code",
   "execution_count": 3,
   "id": "75b1b82e",
   "metadata": {},
   "outputs": [
    {
     "name": "stdout",
     "output_type": "stream",
     "text": [
      "Enter a positive whole number to a factor (or QUIT): \n",
      "> 111\n",
      "1 , 3 , 37 , 111\n",
      "Enter a positive whole number to a factor (or QUIT): \n",
      "> 143\n",
      "1 , 11 , 13 , 143\n",
      "Enter a positive whole number to a factor (or QUIT): \n",
      "> QUIT\n"
     ]
    },
    {
     "ename": "SystemExit",
     "evalue": "",
     "output_type": "error",
     "traceback": [
      "An exception has occurred, use %tb to see the full traceback.\n",
      "\u001b[1;31mSystemExit\u001b[0m\n"
     ]
    },
    {
     "name": "stderr",
     "output_type": "stream",
     "text": [
      "C:\\Users\\Byragi\\anaconda3\\lib\\site-packages\\IPython\\core\\interactiveshell.py:3445: UserWarning: To exit: use 'exit', 'quit', or Ctrl-D.\n",
      "  warn(\"To exit: use 'exit', 'quit', or Ctrl-D.\", stacklevel=1)\n"
     ]
    }
   ],
   "source": [
    "while True:\n",
    "    print(\"Enter a positive whole number to a factor (or QUIT): \")\n",
    "    reply = input(\"> \")\n",
    "    if reply.upper() ==\"QUIT\":\n",
    "        sys.exit()\n",
    "        \n",
    "    if not (reply.isdecimal() and int(reply) > 0):\n",
    "        continue\n",
    "    number = int(reply)\n",
    "    \n",
    "    factors = []\n",
    "    \n",
    "    \n",
    "    # Finding the factors\n",
    "    for i in range (1, int(math.sqrt(number)) + 1):\n",
    "        if number % i == 0:\n",
    "            factors.append(i)\n",
    "            factors.append(number // i)\n",
    "            \n",
    "    \n",
    "    # To make sure of duplicate factors\n",
    "    factors = list(set(factors))\n",
    "    factors.sort()\n",
    "    \n",
    "    # Results\n",
    "    for i, factor in enumerate(factors):\n",
    "        factors[i] = str(factor)\n",
    "    print(\" , \".join(factors))"
   ]
  },
  {
   "cell_type": "code",
   "execution_count": null,
   "id": "42754de9",
   "metadata": {},
   "outputs": [],
   "source": []
  }
 ],
 "metadata": {
  "kernelspec": {
   "display_name": "Python 3",
   "language": "python",
   "name": "python3"
  },
  "language_info": {
   "codemirror_mode": {
    "name": "ipython",
    "version": 3
   },
   "file_extension": ".py",
   "mimetype": "text/x-python",
   "name": "python",
   "nbconvert_exporter": "python",
   "pygments_lexer": "ipython3",
   "version": "3.8.8"
  }
 },
 "nbformat": 4,
 "nbformat_minor": 5
}
