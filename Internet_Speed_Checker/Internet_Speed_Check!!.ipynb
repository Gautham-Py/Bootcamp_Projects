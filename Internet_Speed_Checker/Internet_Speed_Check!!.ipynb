{
 "cells": [
  {
   "cell_type": "markdown",
   "id": "b0a70cb0",
   "metadata": {},
   "source": [
    "#### As seen in a Post"
   ]
  },
  {
   "cell_type": "code",
   "execution_count": 1,
   "id": "5ec0131b",
   "metadata": {},
   "outputs": [],
   "source": [
    "# pip install speedtest-cli"
   ]
  },
  {
   "cell_type": "code",
   "execution_count": 2,
   "id": "f522491f",
   "metadata": {},
   "outputs": [],
   "source": [
    "import speedtest"
   ]
  },
  {
   "cell_type": "code",
   "execution_count": 3,
   "id": "fcefd772",
   "metadata": {},
   "outputs": [],
   "source": [
    "s = speedtest.Speedtest() "
   ]
  },
  {
   "cell_type": "code",
   "execution_count": 4,
   "id": "8e0768f5",
   "metadata": {},
   "outputs": [],
   "source": [
    "#Bytes for Conversion\n",
    "\n",
    "bytes_num = 1000000"
   ]
  },
  {
   "cell_type": "code",
   "execution_count": 5,
   "id": "d2cfee1e",
   "metadata": {},
   "outputs": [],
   "source": [
    "# Download_Speed\n",
    "\n",
    "Dw_speed = round(s.download() / bytes_num, 2)\n",
    "\n",
    "# Upload_Speed\n",
    "\n",
    "Up_speed = round(s.upload() / bytes_num, 2)"
   ]
  },
  {
   "cell_type": "code",
   "execution_count": 6,
   "id": "89d06355",
   "metadata": {},
   "outputs": [
    {
     "name": "stdout",
     "output_type": "stream",
     "text": [
      "My Download Speed is : 31.09 Mbps\n",
      "My Upload Speed is : 43.53 Mbps\n"
     ]
    }
   ],
   "source": [
    "# Print\n",
    "\n",
    "print(f\"My Download Speed is : {Dw_speed} Mbps\")\n",
    "\n",
    "print(f\"My Upload Speed is : {Up_speed} Mbps\")"
   ]
  }
 ],
 "metadata": {
  "kernelspec": {
   "display_name": "Python 3",
   "language": "python",
   "name": "python3"
  },
  "language_info": {
   "codemirror_mode": {
    "name": "ipython",
    "version": 3
   },
   "file_extension": ".py",
   "mimetype": "text/x-python",
   "name": "python",
   "nbconvert_exporter": "python",
   "pygments_lexer": "ipython3",
   "version": "3.8.8"
  }
 },
 "nbformat": 4,
 "nbformat_minor": 5
}
